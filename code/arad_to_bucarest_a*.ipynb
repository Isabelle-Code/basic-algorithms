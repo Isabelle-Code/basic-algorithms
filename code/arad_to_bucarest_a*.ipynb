{
 "cells": [
  {
   "metadata": {
    "ExecuteTime": {
     "end_time": "2024-08-28T14:19:26.613556Z",
     "start_time": "2024-08-28T14:19:26.581482Z"
    }
   },
   "cell_type": "code",
   "source": "import numpy as np",
   "id": "9109a6e007961202",
   "outputs": [],
   "execution_count": 1
  },
  {
   "metadata": {
    "ExecuteTime": {
     "end_time": "2024-08-28T14:19:27.015645Z",
     "start_time": "2024-08-28T14:19:27.012566Z"
    }
   },
   "cell_type": "code",
   "source": [
    "class City:\n",
    "    def __init__(self, name, distance_to_destiny):\n",
    "        # distance_to_destiny, straight line to destiny\n",
    "        self.name = name\n",
    "        self.flag = False\n",
    "        self.distance_to_destiny = distance_to_destiny\n",
    "        self.roads = []\n",
    "        \n",
    "    def add_road(self, road_to):\n",
    "        self.roads.append(road_to)\n",
    "        \n",
    "    def show_neighbors(self):\n",
    "        for road in self.roads:\n",
    "            print(road.destiny.name, road.distance)\n",
    "        \n",
    "    "
   ],
   "id": "3fb3a3247acbd043",
   "outputs": [],
   "execution_count": 2
  },
  {
   "metadata": {
    "ExecuteTime": {
     "end_time": "2024-08-28T14:19:28.580958Z",
     "start_time": "2024-08-28T14:19:28.578165Z"
    }
   },
   "cell_type": "code",
   "source": [
    "class Road:\n",
    "    def __init__(self, city, distance):\n",
    "        self.city = city\n",
    "        self.distance = distance\n",
    "        self.sum_distances = city.distance_to_destiny + distance"
   ],
   "id": "181a2a24a33d6dc7",
   "outputs": [],
   "execution_count": 3
  },
  {
   "metadata": {
    "ExecuteTime": {
     "end_time": "2024-08-28T15:13:55.253581Z",
     "start_time": "2024-08-28T15:13:55.247574Z"
    }
   },
   "cell_type": "code",
   "source": [
    "class Graph:\n",
    "    arad = City('Arad', 366)\n",
    "    zerind = City('Zerind', 374)\n",
    "    oradea = City('Oradea', 380)\n",
    "    sibiu = City('Sibiu', 253)\n",
    "    timisoara = City('Timisoara', 329)\n",
    "    lugoj = City('Lugoj', 244)\n",
    "    mehadia = City('Mehadia', 241)\n",
    "    dobreta = City('Dobreta', 242)\n",
    "    craiova = City('Craiova', 160)\n",
    "    rimnicu = City('Rimnicu', 193)\n",
    "    fagaras = City('Fagaras', 178)\n",
    "    pitesti = City('Pitesti', 98)\n",
    "    bucharest = City('Bucharest', 0)\n",
    "    giurgiu = City('Giurgiu', 77)\n",
    "\n",
    "    arad.add_road(Road(zerind, 75))\n",
    "    arad.add_road(Road(sibiu, 140))\n",
    "    arad.add_road(Road(timisoara, 118))\n",
    "    \n",
    "    zerind.add_road(Road(arad, 75))\n",
    "    zerind.add_road(Road(oradea, 71))\n",
    "    \n",
    "    oradea.add_road(Road(zerind, 71))\n",
    "    oradea.add_road(Road(sibiu, 151))\n",
    "    \n",
    "    sibiu.add_road(Road(oradea, 151))\n",
    "    sibiu.add_road(Road(arad, 140))\n",
    "    sibiu.add_road(Road(fagaras, 99))\n",
    "    sibiu.add_road(Road(rimnicu, 80))\n",
    "    \n",
    "    timisoara.add_road(Road(arad, 118))\n",
    "    timisoara.add_road(Road(lugoj, 111))\n",
    "    \n",
    "    lugoj.add_road(Road(timisoara, 111))\n",
    "    lugoj.add_road(Road(mehadia, 70))\n",
    "    \n",
    "    mehadia.add_road(Road(lugoj, 70))\n",
    "    mehadia.add_road(Road(dobreta, 75))\n",
    "    \n",
    "    dobreta.add_road(Road(mehadia, 75))\n",
    "    dobreta.add_road(Road(craiova, 120))\n",
    "    \n",
    "    craiova.add_road(Road(dobreta, 120))\n",
    "    craiova.add_road(Road(pitesti, 138))\n",
    "    craiova.add_road(Road(rimnicu, 146))\n",
    "    \n",
    "    rimnicu.add_road(Road(craiova, 146))\n",
    "    rimnicu.add_road(Road(sibiu, 80))\n",
    "    rimnicu.add_road(Road(pitesti, 97))\n",
    "    \n",
    "    fagaras.add_road(Road(sibiu, 99))\n",
    "    fagaras.add_road(Road(bucharest, 211))\n",
    "    \n",
    "    pitesti.add_road(Road(rimnicu, 97))\n",
    "    pitesti.add_road(Road(craiova, 138))\n",
    "    pitesti.add_road(Road(bucharest, 101))\n",
    "    \n",
    "    bucharest.add_road(Road(fagaras, 211))\n",
    "    bucharest.add_road(Road(pitesti, 101))\n",
    "    bucharest.add_road(Road(giurgiu, 90))\n",
    "    \n",
    "    \n",
    "    "
   ],
   "id": "eba0dcbdec6c4b5e",
   "outputs": [],
   "execution_count": 18
  },
  {
   "metadata": {
    "ExecuteTime": {
     "end_time": "2024-08-28T14:21:43.954635Z",
     "start_time": "2024-08-28T14:21:43.949456Z"
    }
   },
   "cell_type": "code",
   "source": [
    "class OrderedVector:\n",
    "    def __init__(self, length):\n",
    "        self.length = length\n",
    "        self.last_position = -1\n",
    "        self.values = np.empty(length, dtype=object)\n",
    "\n",
    "    def print(self):\n",
    "\n",
    "        if self.last_position == -1:\n",
    "            print('Vector is empty!')\n",
    "        else:\n",
    "            for i in range(self.last_position + 1):\n",
    "                print(i, ' - ', self.values[i].city.name, ' - ',\n",
    "                      self.values[i].distance, ' - ',\n",
    "                      self.values[i].city.distance_to_destiny, ' - ',\n",
    "                      self.values[i].sum_distances)\n",
    "\n",
    "    def put(self, road):\n",
    "        if self.last_position == self.length - 1:\n",
    "            print('Vector is full!')\n",
    "            return\n",
    "\n",
    "        insert_position = 0\n",
    "        for i in range(self.last_position + 1):\n",
    "            insert_position = i\n",
    "            if self.values[i].sum_distances > road.sum_distances:\n",
    "                break\n",
    "            if i == self.last_position:\n",
    "                insert_position = i + 1\n",
    "\n",
    "        # last position 5\n",
    "        aux = self.last_position\n",
    "        while aux >= insert_position:\n",
    "            self.values[aux + 1] = self.values[aux]\n",
    "            aux -= 1\n",
    "\n",
    "        self.values[insert_position] = road\n",
    "        self.last_position += 1"
   ],
   "id": "f3baac8adf519080",
   "outputs": [],
   "execution_count": 5
  },
  {
   "metadata": {
    "ExecuteTime": {
     "end_time": "2024-08-28T14:23:53.307207Z",
     "start_time": "2024-08-28T14:23:53.302822Z"
    }
   },
   "cell_type": "code",
   "source": [
    "### A*\n",
    "class SearchStar:\n",
    "    def __init__(self, destiny):\n",
    "        self.destiny = destiny\n",
    "        self.find = False\n",
    "    \n",
    "    def search(self, current):\n",
    "        print('------------')\n",
    "        print('Current {} '.format(current.name))\n",
    "        \n",
    "        if current == self.destiny:\n",
    "            self.find = True\n",
    "        else:\n",
    "            vector = OrderedVector(len(current.roads))\n",
    "            for road in current.roads:\n",
    "                if not road.city.flag:\n",
    "                    road.city.flag = True\n",
    "                    vector.put(road)\n",
    "            vector.print()\n",
    "            \n",
    "            if vector.values[0] is not None:\n",
    "                self.search(vector.values[0].city)\n",
    "                    \n"
   ],
   "id": "fe8da0fb25d8008b",
   "outputs": [],
   "execution_count": 11
  },
  {
   "metadata": {
    "ExecuteTime": {
     "end_time": "2024-08-28T15:13:59.234970Z",
     "start_time": "2024-08-28T15:13:59.231060Z"
    }
   },
   "cell_type": "code",
   "source": [
    "graph = Graph()\n",
    "search = SearchStar(graph.bucharest)\n",
    "search.search(graph.arad)"
   ],
   "id": "ff19b50351b36be8",
   "outputs": [
    {
     "name": "stdout",
     "output_type": "stream",
     "text": [
      "------------\n",
      "Current Arad \n",
      "0  -  Sibiu  -  140  -  253  -  393\n",
      "1  -  Timisoara  -  118  -  329  -  447\n",
      "2  -  Zerind  -  75  -  374  -  449\n",
      "------------\n",
      "Current Sibiu \n",
      "0  -  Rimnicu  -  80  -  193  -  273\n",
      "1  -  Fagaras  -  99  -  178  -  277\n",
      "2  -  Arad  -  140  -  366  -  506\n",
      "3  -  Oradea  -  151  -  380  -  531\n",
      "------------\n",
      "Current Rimnicu \n",
      "0  -  Pitesti  -  97  -  98  -  195\n",
      "1  -  Craiova  -  146  -  160  -  306\n",
      "------------\n",
      "Current Pitesti \n",
      "0  -  Bucharest  -  101  -  0  -  101\n",
      "------------\n",
      "Current Bucharest \n"
     ]
    }
   ],
   "execution_count": 19
  }
 ],
 "metadata": {
  "kernelspec": {
   "display_name": "Python 3",
   "language": "python",
   "name": "python3"
  },
  "language_info": {
   "codemirror_mode": {
    "name": "ipython",
    "version": 2
   },
   "file_extension": ".py",
   "mimetype": "text/x-python",
   "name": "python",
   "nbconvert_exporter": "python",
   "pygments_lexer": "ipython2",
   "version": "2.7.6"
  }
 },
 "nbformat": 4,
 "nbformat_minor": 5
}
