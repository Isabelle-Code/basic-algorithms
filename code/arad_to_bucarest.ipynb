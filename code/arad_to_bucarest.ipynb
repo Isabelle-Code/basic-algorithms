{
 "cells": [
  {
   "metadata": {
    "ExecuteTime": {
     "end_time": "2024-08-25T23:53:33.079141Z",
     "start_time": "2024-08-25T23:53:33.075696Z"
    }
   },
   "cell_type": "code",
   "source": "import numpy as np",
   "id": "9109a6e007961202",
   "outputs": [],
   "execution_count": 68
  },
  {
   "metadata": {
    "ExecuteTime": {
     "end_time": "2024-08-25T23:53:33.088783Z",
     "start_time": "2024-08-25T23:53:33.085281Z"
    }
   },
   "cell_type": "code",
   "source": [
    "class Node:\n",
    "    def __init__(self, name, distance_to_destiny):\n",
    "        # distance_to_destiny, straight line to destiny\n",
    "        self.name = name\n",
    "        self.flag = False\n",
    "        self.distance_to_destiny = distance_to_destiny\n",
    "        self.neighbors = []\n",
    "        \n",
    "    def add_neighbor(self, neighbor):\n",
    "        self.neighbors.append(neighbor)\n",
    "        \n",
    "    def show_neighbors(self):\n",
    "        for neighbor in self.neighbors:\n",
    "            print(neighbor.city.name, neighbor.distance)\n",
    "        \n",
    "    "
   ],
   "id": "3fb3a3247acbd043",
   "outputs": [],
   "execution_count": 69
  },
  {
   "metadata": {
    "ExecuteTime": {
     "end_time": "2024-08-25T23:53:33.097767Z",
     "start_time": "2024-08-25T23:53:33.095503Z"
    }
   },
   "cell_type": "code",
   "source": [
    "class Edge:\n",
    "    def __init__(self, city, distance):\n",
    "        self.city = city\n",
    "        self.distance = distance"
   ],
   "id": "181a2a24a33d6dc7",
   "outputs": [],
   "execution_count": 70
  },
  {
   "metadata": {
    "ExecuteTime": {
     "end_time": "2024-08-25T23:54:15.749181Z",
     "start_time": "2024-08-25T23:54:15.739817Z"
    }
   },
   "cell_type": "code",
   "source": [
    "class Graph:\n",
    "    arad = Node('Arad', 366)\n",
    "    zerind = Node('Zerind', 374)\n",
    "    oradea = Node('Oradea', 380)\n",
    "    sibiu = Node('Sibiu', 253)\n",
    "    timisoara = Node('Timisoara', 329)\n",
    "    lugoj = Node('Lugoj', 244)\n",
    "    mehadia = Node('Mehadia', 241)\n",
    "    dobreta = Node('Dobreta', 242)\n",
    "    craiova = Node('Craiova', 160)\n",
    "    rimnicu = Node('Rimnicu', 193)\n",
    "    fagaras = Node('Fagaras', 178)\n",
    "    pitesti = Node('Pitesti', 98)\n",
    "    bucharest = Node('Bucharest', 0)\n",
    "    giurgiu = Node('Giurgiu', 77)\n",
    "\n",
    "    arad.add_neighbor(Edge(zerind, 75))\n",
    "    arad.add_neighbor(Edge(sibiu, 140))\n",
    "    arad.add_neighbor(Edge(timisoara, 118))\n",
    "    \n",
    "    zerind.add_neighbor(Edge(arad, 75))\n",
    "    zerind.add_neighbor(Edge(oradea, 71))\n",
    "    \n",
    "    oradea.add_neighbor(Edge(zerind, 71))\n",
    "    oradea.add_neighbor(Edge(sibiu, 151))\n",
    "    \n",
    "    sibiu.add_neighbor(Edge(oradea, 151))\n",
    "    sibiu.add_neighbor(Edge(arad, 140))\n",
    "    sibiu.add_neighbor(Edge(fagaras, 99))\n",
    "    sibiu.add_neighbor(Edge(rimnicu, 80))\n",
    "    \n",
    "    timisoara.add_neighbor(Edge(arad, 118))\n",
    "    timisoara.add_neighbor(Edge(lugoj, 111))\n",
    "    \n",
    "    lugoj.add_neighbor(Edge(timisoara, 111))\n",
    "    lugoj.add_neighbor(Edge(mehadia, 70))\n",
    "    \n",
    "    mehadia.add_neighbor(Edge(lugoj, 70))\n",
    "    mehadia.add_neighbor(Edge(dobreta, 75))\n",
    "    \n",
    "    dobreta.add_neighbor(Edge(mehadia, 75))\n",
    "    dobreta.add_neighbor(Edge(craiova, 120))\n",
    "    \n",
    "    craiova.add_neighbor(Edge(dobreta, 120))\n",
    "    craiova.add_neighbor(Edge(pitesti, 138))\n",
    "    craiova.add_neighbor(Edge(rimnicu, 146))\n",
    "    \n",
    "    rimnicu.add_neighbor(Edge(craiova, 146))\n",
    "    rimnicu.add_neighbor(Edge(sibiu, 80))\n",
    "    rimnicu.add_neighbor(Edge(pitesti, 97))\n",
    "    \n",
    "    fagaras.add_neighbor(Edge(sibiu, 99))\n",
    "    fagaras.add_neighbor(Edge(bucharest, 211))\n",
    "    \n",
    "    pitesti.add_neighbor(Edge(rimnicu, 97))\n",
    "    pitesti.add_neighbor(Edge(craiova, 138))\n",
    "    pitesti.add_neighbor(Edge(bucharest, 101))\n",
    "    \n",
    "    bucharest.add_neighbor(Edge(fagaras, 211))\n",
    "    bucharest.add_neighbor(Edge(pitesti, 101))\n",
    "    bucharest.add_neighbor(Edge(giurgiu, 90))\n",
    "    \n",
    "    \n",
    "    "
   ],
   "id": "eba0dcbdec6c4b5e",
   "outputs": [],
   "execution_count": 75
  },
  {
   "metadata": {
    "ExecuteTime": {
     "end_time": "2024-08-25T23:53:33.122166Z",
     "start_time": "2024-08-25T23:53:33.117977Z"
    }
   },
   "cell_type": "code",
   "source": [
    "class OrderedVector:\n",
    "    def __init__(self, length):\n",
    "        self.length = length\n",
    "        self.last_position = -1\n",
    "        self.values = np.empty(length, dtype=object)\n",
    "\n",
    "    def print(self):\n",
    "\n",
    "        if self.last_position == -1:\n",
    "            print('Vector is empty!')\n",
    "        else:\n",
    "            for i in range(self.last_position + 1):\n",
    "                print(i, ' - ', self.values[i].name, ' - ', self.values[i].distance_to_destiny)\n",
    "\n",
    "    def put(self, city):\n",
    "        if self.last_position == self.length - 1:\n",
    "            print('Vector is full!')\n",
    "            return\n",
    "\n",
    "        insert_position = 0\n",
    "        for i in range(self.last_position + 1):\n",
    "            insert_position = i\n",
    "            if self.values[i].distance_to_destiny > city.distance_to_destiny:\n",
    "                break\n",
    "            if i == self.last_position:\n",
    "                insert_position = i + 1\n",
    "\n",
    "        # last position 5\n",
    "        aux = self.last_position\n",
    "        while aux >= insert_position:\n",
    "            self.values[aux + 1] = self.values[aux]\n",
    "            aux -= 1\n",
    "\n",
    "        self.values[insert_position] = city\n",
    "        self.last_position += 1"
   ],
   "id": "f3baac8adf519080",
   "outputs": [],
   "execution_count": 72
  },
  {
   "metadata": {
    "ExecuteTime": {
     "end_time": "2024-08-25T23:53:33.130504Z",
     "start_time": "2024-08-25T23:53:33.127264Z"
    }
   },
   "cell_type": "code",
   "source": [
    "### Gluttony\n",
    "class Gluttony:\n",
    "    def __init__(self, destiny):\n",
    "        self.destiny = destiny\n",
    "        self.find = False\n",
    "    \n",
    "    def search(self, current):\n",
    "        print('------------')\n",
    "        print('Current {} '.format(current.name))\n",
    "        \n",
    "        if current == self.destiny:\n",
    "            self.find = True\n",
    "        else:\n",
    "            vector = OrderedVector(len(current.neighbors))\n",
    "            for neighbor in current.neighbors:\n",
    "                if not neighbor.city.flag:\n",
    "                    neighbor.city.flag = True\n",
    "                    vector.put(neighbor.city)\n",
    "            vector.print()\n",
    "            \n",
    "            if vector.values[0] is not None:\n",
    "                self.search(vector.values[0])\n",
    "                    \n"
   ],
   "id": "fe8da0fb25d8008b",
   "outputs": [],
   "execution_count": 73
  },
  {
   "metadata": {
    "ExecuteTime": {
     "end_time": "2024-08-25T23:54:38.400660Z",
     "start_time": "2024-08-25T23:54:38.398030Z"
    }
   },
   "cell_type": "code",
   "source": [
    "graph = Graph()\n",
    "gluttony = Gluttony(graph.bucharest)\n",
    "gluttony.search(graph.arad)"
   ],
   "id": "ff19b50351b36be8",
   "outputs": [
    {
     "name": "stdout",
     "output_type": "stream",
     "text": [
      "------------\n",
      "Current Arad \n",
      "0  -  Sibiu  -  253\n",
      "1  -  Timisoara  -  329\n",
      "2  -  Zerind  -  374\n",
      "------------\n",
      "Current Sibiu \n",
      "0  -  Fagaras  -  178\n",
      "1  -  Rimnicu  -  193\n",
      "2  -  Arad  -  366\n",
      "3  -  Oradea  -  380\n",
      "------------\n",
      "Current Fagaras \n",
      "0  -  Bucharest  -  0\n",
      "------------\n",
      "Current Bucharest \n"
     ]
    }
   ],
   "execution_count": 76
  }
 ],
 "metadata": {
  "kernelspec": {
   "display_name": "Python 3",
   "language": "python",
   "name": "python3"
  },
  "language_info": {
   "codemirror_mode": {
    "name": "ipython",
    "version": 2
   },
   "file_extension": ".py",
   "mimetype": "text/x-python",
   "name": "python",
   "nbconvert_exporter": "python",
   "pygments_lexer": "ipython2",
   "version": "2.7.6"
  }
 },
 "nbformat": 4,
 "nbformat_minor": 5
}
