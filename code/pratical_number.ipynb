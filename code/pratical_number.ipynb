{
 "cells": [
  {
   "metadata": {},
   "cell_type": "markdown",
   "source": [
    "\n",
    "A practical number is a positive integer N such that all smaller positive integers can be represented as sums of distinct divisors of N. For example, 12 is a practical number because all the numbers from 1 to 11 can be expressed as sums of the divisors of 12, which are 1, 2, 3, 4, and 6. (Wikipedia.) However, 10 is not a practical number, because 4 and 9 cannot be expressed as a sum of 1, 2, and 5.\n"
   ],
   "id": "58c036095f596ae4"
  },
  {
   "metadata": {
    "ExecuteTime": {
     "end_time": "2024-09-02T23:04:02.746277Z",
     "start_time": "2024-09-02T23:04:02.741530Z"
    }
   },
   "cell_type": "code",
   "source": [
    "def is_practical(n):\n",
    "    sums = set()\n",
    "    for el in range(1, n):\n",
    "        if n % el == 0:\n",
    "            new_sums = set()\n",
    "            print(f'el = {el}')\n",
    "            for s in sums:\n",
    "                print(f's = {s}, s+el = {s + el}')\n",
    "                new_sums.add(s + el)\n",
    "            sums.update(new_sums)\n",
    "            sums.add(el)\n",
    "            print(f'sums = {sums}')\n",
    "        else:\n",
    "            if el not in sums:\n",
    "                return False\n",
    "    return True"
   ],
   "id": "c178fded8e796202",
   "outputs": [],
   "execution_count": 21
  },
  {
   "metadata": {
    "ExecuteTime": {
     "end_time": "2024-09-02T22:56:57.287724Z",
     "start_time": "2024-09-02T22:56:57.283662Z"
    }
   },
   "cell_type": "code",
   "source": [
    "sums = 0\n",
    "for i in range(1, 15):\n",
    "    if is_practical(i):\n",
    "        print(f'Challenge = {i}')\n",
    "    "
   ],
   "id": "a9d24e3dff79f2a0",
   "outputs": [
    {
     "name": "stdout",
     "output_type": "stream",
     "text": [
      "Challenge = 2\n",
      "Challenge = 3\n",
      "Challenge = 4\n",
      "Challenge = 5\n",
      "Challenge = 6\n",
      "Challenge = 7\n",
      "Challenge = 8\n",
      "Challenge = 9\n",
      "Challenge = 10\n",
      "Challenge = 11\n",
      "Challenge = 12\n",
      "Challenge = 13\n",
      "Challenge = 14\n"
     ]
    }
   ],
   "execution_count": 11
  },
  {
   "metadata": {
    "ExecuteTime": {
     "end_time": "2024-09-02T23:04:06.761819Z",
     "start_time": "2024-09-02T23:04:06.756938Z"
    }
   },
   "cell_type": "code",
   "source": "is_practical(12)",
   "id": "375e8a548ad696e4",
   "outputs": [
    {
     "name": "stdout",
     "output_type": "stream",
     "text": [
      "el = 1\n",
      "sums = {1}\n",
      "el = 2\n",
      "s = 1, s+el = 3\n",
      "sums = {1, 2, 3}\n",
      "el = 3\n",
      "s = 1, s+el = 4\n",
      "s = 2, s+el = 5\n",
      "s = 3, s+el = 6\n",
      "sums = {1, 2, 3, 4, 5, 6}\n",
      "el = 4\n",
      "s = 1, s+el = 5\n",
      "s = 2, s+el = 6\n",
      "s = 3, s+el = 7\n",
      "s = 4, s+el = 8\n",
      "s = 5, s+el = 9\n",
      "s = 6, s+el = 10\n",
      "sums = {1, 2, 3, 4, 5, 6, 7, 8, 9, 10}\n",
      "el = 6\n",
      "s = 1, s+el = 7\n",
      "s = 2, s+el = 8\n",
      "s = 3, s+el = 9\n",
      "s = 4, s+el = 10\n",
      "s = 5, s+el = 11\n",
      "s = 6, s+el = 12\n",
      "s = 7, s+el = 13\n",
      "s = 8, s+el = 14\n",
      "s = 9, s+el = 15\n",
      "s = 10, s+el = 16\n",
      "sums = {1, 2, 3, 4, 5, 6, 7, 8, 9, 10, 11, 12, 13, 14, 15, 16}\n"
     ]
    },
    {
     "data": {
      "text/plain": [
       "True"
      ]
     },
     "execution_count": 22,
     "metadata": {},
     "output_type": "execute_result"
    }
   ],
   "execution_count": 22
  },
  {
   "metadata": {
    "ExecuteTime": {
     "end_time": "2024-09-02T23:04:35.435424Z",
     "start_time": "2024-09-02T23:04:35.430474Z"
    }
   },
   "cell_type": "code",
   "source": "is_practical(10)",
   "id": "fad5ca4ad3422b2e",
   "outputs": [
    {
     "name": "stdout",
     "output_type": "stream",
     "text": [
      "el = 1\n",
      "sums = {1}\n",
      "el = 2\n",
      "s = 1, s+el = 3\n",
      "sums = {1, 2, 3}\n"
     ]
    },
    {
     "data": {
      "text/plain": [
       "False"
      ]
     },
     "execution_count": 23,
     "metadata": {},
     "output_type": "execute_result"
    }
   ],
   "execution_count": 23
  }
 ],
 "metadata": {
  "kernelspec": {
   "display_name": "Python 3",
   "language": "python",
   "name": "python3"
  },
  "language_info": {
   "codemirror_mode": {
    "name": "ipython",
    "version": 2
   },
   "file_extension": ".py",
   "mimetype": "text/x-python",
   "name": "python",
   "nbconvert_exporter": "python",
   "pygments_lexer": "ipython2",
   "version": "2.7.6"
  }
 },
 "nbformat": 4,
 "nbformat_minor": 5
}
